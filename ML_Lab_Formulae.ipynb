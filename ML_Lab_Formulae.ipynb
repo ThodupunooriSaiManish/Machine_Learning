{
  "nbformat": 4,
  "nbformat_minor": 0,
  "metadata": {
    "colab": {
      "provenance": [],
      "authorship_tag": "ABX9TyMewhGQcCGgrzeQadDCtdo4",
      "include_colab_link": true
    },
    "kernelspec": {
      "name": "python3",
      "display_name": "Python 3"
    },
    "language_info": {
      "name": "python"
    }
  },
  "cells": [
    {
      "cell_type": "markdown",
      "metadata": {
        "id": "view-in-github",
        "colab_type": "text"
      },
      "source": [
        "<a href=\"https://colab.research.google.com/github/ThodupunooriSaiManish/Machine_Learning/blob/main/ML_Lab_Formulae.ipynb\" target=\"_parent\"><img src=\"https://colab.research.google.com/assets/colab-badge.svg\" alt=\"Open In Colab\"/></a>"
      ]
    },
    {
      "cell_type": "markdown",
      "source": [
        "all formulae for feature selection methods"
      ],
      "metadata": {
        "id": "CrZ3-gC9pfQl"
      }
    },
    {
      "cell_type": "code",
      "execution_count": 1,
      "metadata": {
        "colab": {
          "base_uri": "https://localhost:8080/",
          "height": 211
        },
        "id": "CaY3MlXUpaHy",
        "outputId": "41cb331c-bdd3-4d32-e603-e0ebf6405710"
      },
      "outputs": [
        {
          "output_type": "error",
          "ename": "NameError",
          "evalue": "name 'X' is not defined",
          "traceback": [
            "\u001b[0;31m---------------------------------------------------------------------------\u001b[0m",
            "\u001b[0;31mNameError\u001b[0m                                 Traceback (most recent call last)",
            "\u001b[0;32m/tmp/ipython-input-3491929397.py\u001b[0m in \u001b[0;36m<cell line: 0>\u001b[0;34m()\u001b[0m\n\u001b[1;32m      1\u001b[0m \u001b[0;31m# Constant Features (variance = 0)\u001b[0m\u001b[0;34m\u001b[0m\u001b[0;34m\u001b[0m\u001b[0m\n\u001b[1;32m      2\u001b[0m \u001b[0;32mfrom\u001b[0m \u001b[0msklearn\u001b[0m\u001b[0;34m.\u001b[0m\u001b[0mfeature_selection\u001b[0m \u001b[0;32mimport\u001b[0m \u001b[0mVarianceThreshold\u001b[0m\u001b[0;34m\u001b[0m\u001b[0;34m\u001b[0m\u001b[0m\n\u001b[0;32m----> 3\u001b[0;31m \u001b[0mX_const\u001b[0m \u001b[0;34m=\u001b[0m \u001b[0mVarianceThreshold\u001b[0m\u001b[0;34m(\u001b[0m\u001b[0mthreshold\u001b[0m\u001b[0;34m=\u001b[0m\u001b[0;36m0\u001b[0m\u001b[0;34m)\u001b[0m\u001b[0;34m.\u001b[0m\u001b[0mfit_transform\u001b[0m\u001b[0;34m(\u001b[0m\u001b[0mX\u001b[0m\u001b[0;34m)\u001b[0m\u001b[0;34m\u001b[0m\u001b[0;34m\u001b[0m\u001b[0m\n\u001b[0m\u001b[1;32m      4\u001b[0m \u001b[0;34m\u001b[0m\u001b[0m\n\u001b[1;32m      5\u001b[0m \u001b[0;31m# Quasi-constant features (low variance)\u001b[0m\u001b[0;34m\u001b[0m\u001b[0;34m\u001b[0m\u001b[0m\n",
            "\u001b[0;31mNameError\u001b[0m: name 'X' is not defined"
          ]
        }
      ],
      "source": [
        "# Constant Features (variance = 0)\n",
        "from sklearn.feature_selection import VarianceThreshold\n",
        "X_const = VarianceThreshold(threshold=0).fit_transform(X)\n",
        "\n",
        "# Quasi-constant features (low variance)\n",
        "X_quasi = VarianceThreshold(threshold=0.01).fit_transform(X)\n",
        "\n",
        "# Duplicate features\n",
        "X_dup = X.T.drop_duplicates().T   # works if X is pandas DataFrame\n"
      ]
    },
    {
      "cell_type": "code",
      "source": [
        "# Correlation (Pearson, Spearman, Kendall)\n",
        "corr_matrix = X.corr(method='pearson')   # or 'spearman', 'kendall'\n",
        "\n",
        "# Mutual Information\n",
        "from sklearn.feature_selection import mutual_info_classif, mutual_info_regression\n",
        "mi_classif = mutual_info_classif(X, y)  # classification\n",
        "mi_reg = mutual_info_regression(X, y)   # regression\n",
        "\n",
        "# Chi-Square\n",
        "from sklearn.feature_selection import chi2\n",
        "chi_vals, p_vals = chi2(X, y)\n",
        "\n",
        "# Fisher Score (ANOVA for classification)\n",
        "from sklearn.feature_selection import f_classif\n",
        "f_vals, p_vals = f_classif(X, y)\n",
        "\n",
        "# ANOVA for regression\n",
        "from sklearn.feature_selection import f_regression\n",
        "f_vals_reg, p_vals_reg = f_regression(X, y)\n",
        "\n",
        "# Univariate Feature Selection\n",
        "from sklearn.feature_selection import SelectKBest\n",
        "X_uni = SelectKBest(score_func=f_classif, k=10).fit_transform(X, y)\n",
        "\n",
        "# Univariate ROC-AUC / MSE\n",
        "from sklearn.metrics import roc_auc_score, mean_squared_error\n",
        "roc_auc_scores = [roc_auc_score(y, X[col]) for col in X.columns]  # classification\n",
        "mse_scores = [mean_squared_error(y, X[col]) for col in X.columns] # regression\n"
      ],
      "metadata": {
        "id": "7rxnNNEZprKK"
      },
      "execution_count": null,
      "outputs": []
    },
    {
      "cell_type": "code",
      "source": [
        "# Forward Selection (using SequentialFeatureSelector)\n",
        "from mlxtend.feature_selection import SequentialFeatureSelector as SFS\n",
        "from sklearn.linear_model import LogisticRegression\n",
        "sfs_forward = SFS(LogisticRegression(), k_features='best', forward=True).fit(X, y)\n",
        "\n",
        "# Backward Selection\n",
        "sfs_backward = SFS(LogisticRegression(), k_features='best', forward=False).fit(X, y)\n",
        "\n",
        "# Exhaustive Search\n",
        "from mlxtend.feature_selection import ExhaustiveFeatureSelector as EFS\n",
        "efs = EFS(LogisticRegression(), min_features=1, max_features=5, scoring='accuracy').fit(X, y)\n",
        "\n",
        "# Recursive Feature Elimination (RFE)\n",
        "from sklearn.feature_selection import RFE\n",
        "model = LogisticRegression()\n",
        "rfe = RFE(model, n_features_to_select=5).fit(X, y)\n"
      ],
      "metadata": {
        "id": "tGYG5lsgpt9q"
      },
      "execution_count": null,
      "outputs": []
    },
    {
      "cell_type": "code",
      "source": [
        "# Random Forest\n",
        "from sklearn.ensemble import RandomForestClassifier\n",
        "rf = RandomForestClassifier().fit(X, y)\n",
        "rf_importances = rf.feature_importances_\n",
        "\n",
        "# Decision Tree\n",
        "from sklearn.tree import DecisionTreeClassifier\n",
        "dt = DecisionTreeClassifier().fit(X, y)\n",
        "dt_importances = dt.feature_importances_\n",
        "\n",
        "# SVM with Linear Kernel (coefficients)\n",
        "from sklearn.svm import LinearSVC\n",
        "svm = LinearSVC(penalty=\"l1\", dual=False).fit(X, y)\n",
        "svm_coef = svm.coef_\n"
      ],
      "metadata": {
        "id": "mIAZcZ4FpyBW"
      },
      "execution_count": null,
      "outputs": []
    }
  ]
}