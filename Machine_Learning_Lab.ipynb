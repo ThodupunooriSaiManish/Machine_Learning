{
  "nbformat": 4,
  "nbformat_minor": 0,
  "metadata": {
    "colab": {
      "provenance": [],
      "authorship_tag": "ABX9TyPl+6bL1J/2dYmZk8IC+xbR",
      "include_colab_link": true
    },
    "kernelspec": {
      "name": "python3",
      "display_name": "Python 3"
    },
    "language_info": {
      "name": "python"
    }
  },
  "cells": [
    {
      "cell_type": "markdown",
      "metadata": {
        "id": "view-in-github",
        "colab_type": "text"
      },
      "source": [
        "<a href=\"https://colab.research.google.com/github/ThodupunooriSaiManish/Machine_Learning/blob/main/Machine_Learning_Lab.ipynb\" target=\"_parent\"><img src=\"https://colab.research.google.com/assets/colab-badge.svg\" alt=\"Open In Colab\"/></a>"
      ]
    },
    {
      "cell_type": "markdown",
      "source": [
        "LAB-1_Week1(18/07/25)"
      ],
      "metadata": {
        "id": "0wb4d0yL1eEM"
      }
    },
    {
      "cell_type": "code",
      "execution_count": null,
      "metadata": {
        "id": "KsTSU2ky1PeY"
      },
      "outputs": [],
      "source": [
        "import numpy as np"
      ]
    },
    {
      "cell_type": "code",
      "source": [
        "n=np.arange(10)\n",
        "print(n)"
      ],
      "metadata": {
        "colab": {
          "base_uri": "https://localhost:8080/"
        },
        "id": "7qFXkGQQ1dtL",
        "outputId": "977b7f76-b7d7-414b-dd9c-506e91ab3b2c"
      },
      "execution_count": null,
      "outputs": [
        {
          "output_type": "stream",
          "name": "stdout",
          "text": [
            "[0 1 2 3 4 5 6 7 8 9]\n"
          ]
        }
      ]
    },
    {
      "cell_type": "code",
      "source": [
        "a=n.reshape(2,5)\n",
        "print(a)\n",
        "print()\n",
        "b=n.reshape(2,-1)\n",
        "print(b)"
      ],
      "metadata": {
        "colab": {
          "base_uri": "https://localhost:8080/"
        },
        "id": "LjBu4xKd1uzj",
        "outputId": "b9499ae7-8b37-4a66-d088-2e8f5fb3a881"
      },
      "execution_count": null,
      "outputs": [
        {
          "output_type": "stream",
          "name": "stdout",
          "text": [
            "[[0 1 2 3 4]\n",
            " [5 6 7 8 9]]\n",
            "\n",
            "[[0 1 2 3 4]\n",
            " [5 6 7 8 9]]\n"
          ]
        }
      ]
    },
    {
      "cell_type": "code",
      "source": [
        "c=np.arange(10).reshape(2,5)\n",
        "d=np.arange(10).reshape(5,2)\n",
        "print(np.dot(c,d))"
      ],
      "metadata": {
        "colab": {
          "base_uri": "https://localhost:8080/"
        },
        "id": "Nyg_Kd4q6dSU",
        "outputId": "aa11efb5-ca5e-4e80-8fee-d4168c43c1bc"
      },
      "execution_count": null,
      "outputs": [
        {
          "output_type": "stream",
          "name": "stdout",
          "text": [
            "[[ 60  70]\n",
            " [160 195]]\n"
          ]
        }
      ]
    },
    {
      "cell_type": "code",
      "source": [
        "e=np.arange(11)\n",
        "f=np.flip(e)\n",
        "print(f)"
      ],
      "metadata": {
        "colab": {
          "base_uri": "https://localhost:8080/"
        },
        "id": "3kQhsHJd6fry",
        "outputId": "4b1f8727-319a-4fb0-f62a-d6732f041ec1"
      },
      "execution_count": null,
      "outputs": [
        {
          "output_type": "stream",
          "name": "stdout",
          "text": [
            "[10  9  8  7  6  5  4  3  2  1  0]\n"
          ]
        }
      ]
    },
    {
      "cell_type": "code",
      "source": [
        "import numpy as np\n",
        "\n",
        "a = np.eye(3)\n",
        "b = np.array([[1, 2, 3]])\n",
        "c = np.vstack((a, b))\n",
        "print(c)\n"
      ],
      "metadata": {
        "colab": {
          "base_uri": "https://localhost:8080/"
        },
        "id": "G814k0Qs7Jh3",
        "outputId": "11603893-2ccf-461d-fd20-9f110e557541"
      },
      "execution_count": null,
      "outputs": [
        {
          "output_type": "stream",
          "name": "stdout",
          "text": [
            "[[1. 0. 0.]\n",
            " [0. 1. 0.]\n",
            " [0. 0. 1.]\n",
            " [1. 2. 3.]]\n"
          ]
        }
      ]
    },
    {
      "cell_type": "code",
      "source": [
        "import numpy as np\n",
        "\n",
        "matrix = np.array([[1, 2, 3],\n",
        "                   [4, 5, 6],\n",
        "                   [7, 8, 9]])\n",
        "\n",
        "diagonal = np.diag(matrix)\n",
        "print(diagonal)\n"
      ],
      "metadata": {
        "colab": {
          "base_uri": "https://localhost:8080/"
        },
        "id": "DmDFzVo37gcD",
        "outputId": "5887ca48-899a-443d-dd3a-69f0c7b6e5c5"
      },
      "execution_count": null,
      "outputs": [
        {
          "output_type": "stream",
          "name": "stdout",
          "text": [
            "[1 5 9]\n"
          ]
        }
      ]
    },
    {
      "cell_type": "code",
      "source": [],
      "metadata": {
        "id": "uPK1LPmQLAhQ"
      },
      "execution_count": null,
      "outputs": []
    },
    {
      "cell_type": "markdown",
      "source": [
        "Pandas Exercise-1\n",
        "\n"
      ],
      "metadata": {
        "id": "elxIjJBfK_lZ"
      }
    },
    {
      "cell_type": "code",
      "source": [
        "import pandas as pd\n",
        "#Q9\n",
        "data = {\n",
        "    2014: [100.5, 150.8, 200.9, 30000, 40000],\n",
        "    2015: [12000, 18000, 22000, 30000, 45000],\n",
        "    2016: [20000, 50000, 70000, 100000, 125000],\n",
        "    2017: [50000, 60000, 70000, 80000, 90000]\n",
        "}\n",
        "index = ['Madhu', 'Kusum', 'Kinshuk', 'Ankit', 'Shruti']\n",
        "\n",
        "Sales = pd.DataFrame(data, index=index)\n",
        "print(Sales)"
      ],
      "metadata": {
        "id": "GBSGCbLW8DpY",
        "colab": {
          "base_uri": "https://localhost:8080/"
        },
        "outputId": "078ece48-833e-4f20-96cb-3c54b469e48d"
      },
      "execution_count": null,
      "outputs": [
        {
          "output_type": "stream",
          "name": "stdout",
          "text": [
            "            2014   2015    2016   2017\n",
            "Madhu      100.5  12000   20000  50000\n",
            "Kusum      150.8  18000   50000  60000\n",
            "Kinshuk    200.9  22000   70000  70000\n",
            "Ankit    30000.0  30000  100000  80000\n",
            "Shruti   40000.0  45000  125000  90000\n"
          ]
        }
      ]
    },
    {
      "cell_type": "code",
      "source": [
        "#Q10\n",
        "# a) Display row labels\n",
        "print(\"Row Labels:\", Sales.index.tolist())\n",
        "print()\n",
        "# b) Display column labels\n",
        "print(\"Column Labels:\", Sales.columns.tolist())\n",
        "print()\n",
        "# c) Display data types of each column\n",
        "print(\"Data Types:\\n\", Sales.dtypes)\n",
        "print()\n",
        "# d) Display dimensions, shape, size and values\n",
        "print(\"Dimensions:\", Sales.ndim)\n",
        "print(\"Shape:\", Sales.shape)\n",
        "print(\"Size:\", Sales.size)\n",
        "print(\"Values:\\n\", Sales.values)\n",
        "print()\n",
        "# e) Display last two rows\n",
        "print(\"Last 2 rows:\\n\", Sales.tail(2))\n",
        "print()\n",
        "# f) Display first two columns\n",
        "print(\"First 2 columns:\\n\", Sales.iloc[:, :2])\n",
        "print()"
      ],
      "metadata": {
        "colab": {
          "base_uri": "https://localhost:8080/"
        },
        "id": "qyPTcwI2LlVd",
        "outputId": "09c5f85b-3377-428b-f97f-13c31e4749b6"
      },
      "execution_count": null,
      "outputs": [
        {
          "output_type": "stream",
          "name": "stdout",
          "text": [
            "Row Labels: [2015, 2016, 2017, 2018, 'Madhu', 'Kusum', 'Kinshuk', 'Ankit', 'Shruti', 2018]\n",
            "\n",
            "Column Labels: ['Shailesh', 'Kusum', 'Vivaan', 'Shruti', 'Sumeet', 2018, 'Madhu', 'Kinshuk', 'Ankit']\n",
            "\n",
            "Data Types:\n",
            " Shailesh    float64\n",
            "Kusum       float64\n",
            "Vivaan      float64\n",
            "Shruti      float64\n",
            "Sumeet      float64\n",
            "2018        float64\n",
            "Madhu       float64\n",
            "Kinshuk     float64\n",
            "Ankit       float64\n",
            "dtype: object\n",
            "\n",
            "Dimensions: 2\n",
            "Shape: (10, 9)\n",
            "Size: 90\n",
            "Values:\n",
            " [[ 12000.  18000.  30000.  45000.  37800.     nan     nan     nan     nan]\n",
            " [ 20000.  50000. 100000. 125000.  52000.     nan     nan     nan     nan]\n",
            " [ 50000.  60000.  80000.  90000.  78438.     nan     nan     nan     nan]\n",
            " [100000. 110000. 340000. 900000.  38852.     nan     nan     nan     nan]\n",
            " [    nan     nan     nan     nan     nan 160000.     nan     nan     nan]\n",
            " [    nan     nan     nan     nan     nan 110000.     nan     nan     nan]\n",
            " [    nan     nan     nan     nan     nan 500000.     nan     nan     nan]\n",
            " [    nan     nan     nan     nan     nan 340000.     nan     nan     nan]\n",
            " [    nan     nan     nan     nan     nan 900000.     nan     nan     nan]\n",
            " [    nan 110000.     nan 900000.     nan     nan 160000. 500000. 340000.]]\n",
            "\n",
            "Last 2 rows:\n",
            "         Shailesh     Kusum  Vivaan    Shruti  Sumeet      2018     Madhu  \\\n",
            "Shruti       NaN       NaN     NaN       NaN     NaN  900000.0       NaN   \n",
            "2018         NaN  110000.0     NaN  900000.0     NaN       NaN  160000.0   \n",
            "\n",
            "         Kinshuk     Ankit  \n",
            "Shruti       NaN       NaN  \n",
            "2018    500000.0  340000.0  \n",
            "\n",
            "First 2 columns:\n",
            "          Shailesh     Kusum\n",
            "2015      12000.0   18000.0\n",
            "2016      20000.0   50000.0\n",
            "2017      50000.0   60000.0\n",
            "2018     100000.0  110000.0\n",
            "Madhu         NaN       NaN\n",
            "Kusum         NaN       NaN\n",
            "Kinshuk       NaN       NaN\n",
            "Ankit         NaN       NaN\n",
            "Shruti        NaN       NaN\n",
            "2018          NaN  110000.0\n",
            "\n"
          ]
        }
      ]
    },
    {
      "cell_type": "code",
      "source": [
        "data_2018 = {\n",
        "    'Madhu': 160000,\n",
        "    'Kusum': 110000,\n",
        "    'Kinshuk': 500000,\n",
        "    'Ankit': 340000,\n",
        "    'Shruti': 900000\n",
        "}\n",
        "Sales2 = pd.DataFrame(data_2018, index=[2018]).T\n",
        "print(\"Sales2 DataFrame:\\n\", Sales2)\n",
        "\n",
        "# h) Check if Sales2 is empty\n",
        "print(\"Is Sales2 empty?\", Sales2.empty)\n",
        "\n",
        "# a) Append Sales2\n",
        "Sales = pd.concat([Sales, Sales2], axis=1)\n",
        "print(\"After appending Sales2:\\n\", Sales)\n",
        "\n",
        "# b) Transpose\n",
        "Sales = Sales.T\n",
        "print(\"Transposed Sales:\\n\", Sales)\n",
        "\n",
        "# c) Sales in 2017\n",
        "print(\"Sales in 2017:\\n\", Sales.loc[2017])\n",
        "\n",
        "# d) Sales by Madhu and Ankit in 2017 and 2018\n",
        "print(\"Sales by Madhu and Ankit in 2017 and 2018:\\n\", Sales.loc[[2017, 2018], ['Madhu', 'Ankit']])\n",
        "\n",
        "# e) Sales by Shruti in 2016\n",
        "print(\"Sales by Shruti in 2016:\", Sales.at[2016, 'Shruti'])\n",
        "\n",
        "# f) Add Sumeet’s data\n",
        "Sales['Sumeet'] = [196.2, 37800, 52000, 78438, 38852]\n",
        "print(\"After adding Sumeet:\\n\", Sales)\n",
        "\n",
        "# g) Delete year 2014\n",
        "Sales = Sales.drop(index=2014)\n",
        "print(\"After deleting 2014:\\n\", Sales)\n",
        "\n",
        "# h) Delete Kinshuk\n",
        "Sales = Sales.drop(columns='Kinshuk')\n",
        "print(\"After deleting Kinshuk:\\n\", Sales)\n",
        "\n",
        "# i) Rename Ankit to Vivaan and Madhu to Shailesh\n",
        "Sales = Sales.rename(columns={'Ankit': 'Vivaan', 'Madhu': 'Shailesh'})\n",
        "print(\"After renaming:\\n\", Sales)\n",
        "\n",
        "# j) Update sale of Shailesh in 2018 to 100000\n",
        "Sales.at[2018, 'Shailesh'] = 100000\n",
        "print(\"After updating Shailesh 2018 sale:\\n\", Sales)\n",
        "\n",
        "# k) Write to CSV (without row/column labels)\n",
        "Sales.to_csv(\"SalesFigures.csv\", index=False, header=False)\n",
        "\n",
        "# l) Read from CSV and update labels\n",
        "SalesRetrieved = pd.read_csv(\"SalesFigures.csv\", header=None)\n",
        "\n",
        "# Set same row and column labels as Sales\n",
        "SalesRetrieved.index = Sales.index\n",
        "SalesRetrieved.columns = Sales.columns\n",
        "print(\"SalesRetrieved:\\n\", SalesRetrieved)\n"
      ],
      "metadata": {
        "colab": {
          "base_uri": "https://localhost:8080/"
        },
        "id": "TfktivkhP_gi",
        "outputId": "dc7e27f8-3c94-4e53-9db4-45e6d950ebc6"
      },
      "execution_count": null,
      "outputs": [
        {
          "output_type": "stream",
          "name": "stdout",
          "text": [
            "Sales2 DataFrame:\n",
            "            2018\n",
            "Madhu    160000\n",
            "Kusum    110000\n",
            "Kinshuk  500000\n",
            "Ankit    340000\n",
            "Shruti   900000\n",
            "Is Sales2 empty? False\n",
            "After appending Sales2:\n",
            "             2014   2015    2016   2017    2018\n",
            "Madhu      100.5  12000   20000  50000  160000\n",
            "Kusum      150.8  18000   50000  60000  110000\n",
            "Kinshuk    200.9  22000   70000  70000  500000\n",
            "Ankit    30000.0  30000  100000  80000  340000\n",
            "Shruti   40000.0  45000  125000  90000  900000\n",
            "Transposed Sales:\n",
            "          Madhu     Kusum   Kinshuk     Ankit    Shruti\n",
            "2014     100.5     150.8     200.9   30000.0   40000.0\n",
            "2015   12000.0   18000.0   22000.0   30000.0   45000.0\n",
            "2016   20000.0   50000.0   70000.0  100000.0  125000.0\n",
            "2017   50000.0   60000.0   70000.0   80000.0   90000.0\n",
            "2018  160000.0  110000.0  500000.0  340000.0  900000.0\n",
            "Sales in 2017:\n",
            " Madhu      50000.0\n",
            "Kusum      60000.0\n",
            "Kinshuk    70000.0\n",
            "Ankit      80000.0\n",
            "Shruti     90000.0\n",
            "Name: 2017, dtype: float64\n",
            "Sales by Madhu and Ankit in 2017 and 2018:\n",
            "          Madhu     Ankit\n",
            "2017   50000.0   80000.0\n",
            "2018  160000.0  340000.0\n",
            "Sales by Shruti in 2016: 125000.0\n",
            "After adding Sumeet:\n",
            "          Madhu     Kusum   Kinshuk     Ankit    Shruti   Sumeet\n",
            "2014     100.5     150.8     200.9   30000.0   40000.0    196.2\n",
            "2015   12000.0   18000.0   22000.0   30000.0   45000.0  37800.0\n",
            "2016   20000.0   50000.0   70000.0  100000.0  125000.0  52000.0\n",
            "2017   50000.0   60000.0   70000.0   80000.0   90000.0  78438.0\n",
            "2018  160000.0  110000.0  500000.0  340000.0  900000.0  38852.0\n",
            "After deleting 2014:\n",
            "          Madhu     Kusum   Kinshuk     Ankit    Shruti   Sumeet\n",
            "2015   12000.0   18000.0   22000.0   30000.0   45000.0  37800.0\n",
            "2016   20000.0   50000.0   70000.0  100000.0  125000.0  52000.0\n",
            "2017   50000.0   60000.0   70000.0   80000.0   90000.0  78438.0\n",
            "2018  160000.0  110000.0  500000.0  340000.0  900000.0  38852.0\n",
            "After deleting Kinshuk:\n",
            "          Madhu     Kusum     Ankit    Shruti   Sumeet\n",
            "2015   12000.0   18000.0   30000.0   45000.0  37800.0\n",
            "2016   20000.0   50000.0  100000.0  125000.0  52000.0\n",
            "2017   50000.0   60000.0   80000.0   90000.0  78438.0\n",
            "2018  160000.0  110000.0  340000.0  900000.0  38852.0\n",
            "After renaming:\n",
            "       Shailesh     Kusum    Vivaan    Shruti   Sumeet\n",
            "2015   12000.0   18000.0   30000.0   45000.0  37800.0\n",
            "2016   20000.0   50000.0  100000.0  125000.0  52000.0\n",
            "2017   50000.0   60000.0   80000.0   90000.0  78438.0\n",
            "2018  160000.0  110000.0  340000.0  900000.0  38852.0\n",
            "After updating Shailesh 2018 sale:\n",
            "       Shailesh     Kusum    Vivaan    Shruti   Sumeet\n",
            "2015   12000.0   18000.0   30000.0   45000.0  37800.0\n",
            "2016   20000.0   50000.0  100000.0  125000.0  52000.0\n",
            "2017   50000.0   60000.0   80000.0   90000.0  78438.0\n",
            "2018  100000.0  110000.0  340000.0  900000.0  38852.0\n",
            "SalesRetrieved:\n",
            "       Shailesh     Kusum    Vivaan    Shruti   Sumeet\n",
            "2015   12000.0   18000.0   30000.0   45000.0  37800.0\n",
            "2016   20000.0   50000.0  100000.0  125000.0  52000.0\n",
            "2017   50000.0   60000.0   80000.0   90000.0  78438.0\n",
            "2018  100000.0  110000.0  340000.0  900000.0  38852.0\n"
          ]
        }
      ]
    },
    {
      "cell_type": "code",
      "source": [
        "#Exercise-2,Q13\n",
        "import pandas as pd\n",
        "\n",
        "# Create DataFrame\n",
        "data = {\n",
        "    'Item': ['TV', 'TV', 'TV', 'AC'],\n",
        "    'Company': ['LG', 'VIDEOCON', 'LG', 'SONY'],\n",
        "    'Rupees': [12000, 10000, 15000, 14000],\n",
        "    'USD': [700, 650, 800, 750]\n",
        "}\n",
        "\n",
        "Product = pd.DataFrame(data)\n",
        "print(\"Product DataFrame:\\n\", Product)\n",
        "# New rows to add\n",
        "new_data = {\n",
        "    'Item': ['AC', 'TV'],\n",
        "    'Company': ['LG', 'SONY'],\n",
        "    'Rupees': [16000, 13000],\n",
        "    'USD': [850, 720]\n",
        "}\n",
        "\n",
        "new_rows = pd.DataFrame(new_data)\n",
        "Product = pd.concat([Product, new_rows], ignore_index=True)\n",
        "print(\"Updated Product DataFrame:\\n\", Product)\n",
        "# Filter LG TVs\n",
        "lg_tv = Product[(Product['Item'] == 'TV') & (Product['Company'] == 'LG')]\n",
        "max_price = lg_tv['Rupees'].max()\n",
        "print(\"Maximum price of LG TV:\", max_price)\n",
        "\n",
        "total_rupees = Product['Rupees'].sum()\n",
        "print(\"Total Rupees of all products:\", total_rupees)\n",
        "\n",
        "sony_usd_median = Product[Product['Company'] == 'SONY']['USD'].median()\n",
        "print(\"Median USD for Sony products:\", sony_usd_median)\n",
        "\n",
        "Product_sorted = Product.sort_values(by='Rupees')\n",
        "print(\"Sorted Product DataFrame:\\n\", Product_sorted)\n"
      ],
      "metadata": {
        "colab": {
          "base_uri": "https://localhost:8080/"
        },
        "id": "cfw2vcLTXWDL",
        "outputId": "22aa8095-96da-4c2f-966f-92ec271ba1ce"
      },
      "execution_count": null,
      "outputs": [
        {
          "output_type": "stream",
          "name": "stdout",
          "text": [
            "Product DataFrame:\n",
            "   Item   Company  Rupees  USD\n",
            "0   TV        LG   12000  700\n",
            "1   TV  VIDEOCON   10000  650\n",
            "2   TV        LG   15000  800\n",
            "3   AC      SONY   14000  750\n",
            "Updated Product DataFrame:\n",
            "   Item   Company  Rupees  USD\n",
            "0   TV        LG   12000  700\n",
            "1   TV  VIDEOCON   10000  650\n",
            "2   TV        LG   15000  800\n",
            "3   AC      SONY   14000  750\n",
            "4   AC        LG   16000  850\n",
            "5   TV      SONY   13000  720\n",
            "Maximum price of LG TV: 15000\n",
            "Total Rupees of all products: 80000\n",
            "Median USD for Sony products: 735.0\n",
            "Sorted Product DataFrame:\n",
            "   Item   Company  Rupees  USD\n",
            "1   TV  VIDEOCON   10000  650\n",
            "0   TV        LG   12000  700\n",
            "5   TV      SONY   13000  720\n",
            "3   AC      SONY   14000  750\n",
            "2   TV        LG   15000  800\n",
            "4   AC        LG   16000  850\n"
          ]
        }
      ]
    },
    {
      "cell_type": "markdown",
      "source": [
        "LAB-2_Week2(25/07/25)_(iris_dataset_preprocessing_exercise)"
      ],
      "metadata": {
        "id": "JFulejDH7xaY"
      }
    },
    {
      "cell_type": "code",
      "source": [
        "import pandas as pd\n",
        "from sklearn import datasets\n",
        "\n",
        "# Load the iris dataset\n",
        "iris = datasets.load_iris()\n",
        "\n",
        "# Print the shape of the data\n",
        "print(\"Shape of the data:\", iris.data.shape)\n",
        "\n",
        "# Print the type of the data (iris.data is a NumPy array)\n",
        "print(\"Type of the data:\", type(iris.data))\n",
        "\n",
        "# Convert to DataFrame for easier handling and view first 3 rows\n",
        "df = pd.DataFrame(data=iris.data, columns=iris.feature_names)\n",
        "print(\"First 3 rows of the dataset:\")\n",
        "print(df.head(3))\n"
      ],
      "metadata": {
        "id": "vGt4CggdXp5e",
        "colab": {
          "base_uri": "https://localhost:8080/"
        },
        "outputId": "938f6c1a-5bef-4101-f81b-84ed88e389e7"
      },
      "execution_count": 8,
      "outputs": [
        {
          "output_type": "stream",
          "name": "stdout",
          "text": [
            "Shape of the data: (150, 4)\n",
            "Type of the data: <class 'numpy.ndarray'>\n",
            "First 3 rows of the dataset:\n",
            "   sepal length (cm)  sepal width (cm)  petal length (cm)  petal width (cm)\n",
            "0                5.1               3.5                1.4               0.2\n",
            "1                4.9               3.0                1.4               0.2\n",
            "2                4.7               3.2                1.3               0.2\n"
          ]
        }
      ]
    },
    {
      "cell_type": "code",
      "source": [
        "print(iris.keys())\n",
        "print()\n",
        "print(iris.feature_names)\n",
        "print()\n",
        "print(iris.DESCR)"
      ],
      "metadata": {
        "colab": {
          "base_uri": "https://localhost:8080/"
        },
        "id": "A0C3lOUPAZFy",
        "outputId": "b20dc710-9db4-484c-992b-968c4046cce0"
      },
      "execution_count": 16,
      "outputs": [
        {
          "output_type": "stream",
          "name": "stdout",
          "text": [
            "dict_keys(['data', 'target', 'frame', 'target_names', 'DESCR', 'feature_names', 'filename', 'data_module'])\n",
            "\n",
            "['sepal length (cm)', 'sepal width (cm)', 'petal length (cm)', 'petal width (cm)']\n",
            "\n",
            ".. _iris_dataset:\n",
            "\n",
            "Iris plants dataset\n",
            "--------------------\n",
            "\n",
            "**Data Set Characteristics:**\n",
            "\n",
            ":Number of Instances: 150 (50 in each of three classes)\n",
            ":Number of Attributes: 4 numeric, predictive attributes and the class\n",
            ":Attribute Information:\n",
            "    - sepal length in cm\n",
            "    - sepal width in cm\n",
            "    - petal length in cm\n",
            "    - petal width in cm\n",
            "    - class:\n",
            "            - Iris-Setosa\n",
            "            - Iris-Versicolour\n",
            "            - Iris-Virginica\n",
            "\n",
            ":Summary Statistics:\n",
            "\n",
            "============== ==== ==== ======= ===== ====================\n",
            "                Min  Max   Mean    SD   Class Correlation\n",
            "============== ==== ==== ======= ===== ====================\n",
            "sepal length:   4.3  7.9   5.84   0.83    0.7826\n",
            "sepal width:    2.0  4.4   3.05   0.43   -0.4194\n",
            "petal length:   1.0  6.9   3.76   1.76    0.9490  (high!)\n",
            "petal width:    0.1  2.5   1.20   0.76    0.9565  (high!)\n",
            "============== ==== ==== ======= ===== ====================\n",
            "\n",
            ":Missing Attribute Values: None\n",
            ":Class Distribution: 33.3% for each of 3 classes.\n",
            ":Creator: R.A. Fisher\n",
            ":Donor: Michael Marshall (MARSHALL%PLU@io.arc.nasa.gov)\n",
            ":Date: July, 1988\n",
            "\n",
            "The famous Iris database, first used by Sir R.A. Fisher. The dataset is taken\n",
            "from Fisher's paper. Note that it's the same as in R, but not as in the UCI\n",
            "Machine Learning Repository, which has two wrong data points.\n",
            "\n",
            "This is perhaps the best known database to be found in the\n",
            "pattern recognition literature.  Fisher's paper is a classic in the field and\n",
            "is referenced frequently to this day.  (See Duda & Hart, for example.)  The\n",
            "data set contains 3 classes of 50 instances each, where each class refers to a\n",
            "type of iris plant.  One class is linearly separable from the other 2; the\n",
            "latter are NOT linearly separable from each other.\n",
            "\n",
            ".. dropdown:: References\n",
            "\n",
            "  - Fisher, R.A. \"The use of multiple measurements in taxonomic problems\"\n",
            "    Annual Eugenics, 7, Part II, 179-188 (1936); also in \"Contributions to\n",
            "    Mathematical Statistics\" (John Wiley, NY, 1950).\n",
            "  - Duda, R.O., & Hart, P.E. (1973) Pattern Classification and Scene Analysis.\n",
            "    (Q327.D83) John Wiley & Sons.  ISBN 0-471-22361-1.  See page 218.\n",
            "  - Dasarathy, B.V. (1980) \"Nosing Around the Neighborhood: A New System\n",
            "    Structure and Classification Rule for Recognition in Partially Exposed\n",
            "    Environments\".  IEEE Transactions on Pattern Analysis and Machine\n",
            "    Intelligence, Vol. PAMI-2, No. 1, 67-71.\n",
            "  - Gates, G.W. (1972) \"The Reduced Nearest Neighbor Rule\".  IEEE Transactions\n",
            "    on Information Theory, May 1972, 431-433.\n",
            "  - See also: 1988 MLC Proceedings, 54-64.  Cheeseman et al\"s AUTOCLASS II\n",
            "    conceptual clustering system finds 3 classes in the data.\n",
            "  - Many, many more ...\n",
            "\n"
          ]
        }
      ]
    },
    {
      "cell_type": "code",
      "source": [
        "import pandas as pd\n",
        "from sklearn import datasets\n",
        "import numpy as np\n",
        "\n",
        "# Number of observations (rows)\n",
        "num_observations = df.shape[0]\n",
        "\n",
        "# Count missing values per column\n",
        "missing_values_column = df.isnull().sum()\n",
        "\n",
        "# Total missing values\n",
        "total_missing_values = df.isnull().sum().sum()\n",
        "\n",
        "# Count NaN values\n",
        "nan_values_per_column = df.isna().sum()\n",
        "total_nan_values = df.isna().sum().sum()\n",
        "\n",
        "print(f\"Number of observations: {num_observations}\\n\")\n",
        "\n",
        "print(\"Missing values per column:\")\n",
        "print(missing_values_column)\n",
        "\n",
        "print(f\"\\nTotal missing values in dataset: {total_missing_values}\\n\")\n",
        "\n",
        "print(\"NaN values per column:\")\n",
        "print(nan_values_per_column)\n",
        "\n",
        "print(f\"\\nTotal NaN values in dataset: {total_nan_values}\")\n"
      ],
      "metadata": {
        "colab": {
          "base_uri": "https://localhost:8080/"
        },
        "id": "GgbPWWeGCZpR",
        "outputId": "4da4693c-bf36-44c6-ea98-9a6f9cea50f7"
      },
      "execution_count": 18,
      "outputs": [
        {
          "output_type": "stream",
          "name": "stdout",
          "text": [
            "Number of observations: 150\n",
            "\n",
            "Missing values per column:\n",
            "sepal length (cm)    0\n",
            "sepal width (cm)     0\n",
            "petal length (cm)    0\n",
            "petal width (cm)     0\n",
            "dtype: int64\n",
            "\n",
            "Total missing values in dataset: 0\n",
            "\n",
            "NaN values per column:\n",
            "sepal length (cm)    0\n",
            "sepal width (cm)     0\n",
            "petal length (cm)    0\n",
            "petal width (cm)     0\n",
            "dtype: int64\n",
            "\n",
            "Total NaN values in dataset: 0\n"
          ]
        }
      ]
    },
    {
      "cell_type": "code",
      "source": [],
      "metadata": {
        "id": "k0mPIqPvGPdp"
      },
      "execution_count": null,
      "outputs": []
    }
  ]
}